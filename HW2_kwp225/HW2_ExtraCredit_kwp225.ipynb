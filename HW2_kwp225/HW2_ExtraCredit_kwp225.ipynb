{
 "cells": [
  {
   "cell_type": "markdown",
   "metadata": {},
   "source": [
    "#### Kent Pan\n",
    "#### PUI HW2 Extra Credit"
   ]
  },
  {
   "cell_type": "code",
   "execution_count": 1,
   "metadata": {
    "collapsed": true
   },
   "outputs": [],
   "source": [
    "# import packages\n",
    "import pandas as pd\n",
    "import os"
   ]
  },
  {
   "cell_type": "code",
   "execution_count": 2,
   "metadata": {
    "collapsed": false,
    "scrolled": false
   },
   "outputs": [
    {
     "name": "stdout",
     "output_type": "stream",
     "text": [
      "/gws/open/NYCOpenData/nycopendata/data\r\n"
     ]
    }
   ],
   "source": [
    "# checks that environmental variable DFDATA exists in compute\n",
    "!echo $DFDATA"
   ]
  },
  {
   "cell_type": "code",
   "execution_count": 3,
   "metadata": {
    "collapsed": false,
    "scrolled": true
   },
   "outputs": [
    {
     "data": {
      "text/html": [
       "<div>\n",
       "<table border=\"1\" class=\"dataframe\">\n",
       "  <thead>\n",
       "    <tr style=\"text-align: right;\">\n",
       "      <th></th>\n",
       "      <th>Neversink Date</th>\n",
       "      <th>Neversink Elevation</th>\n",
       "      <th>Neversink Storage</th>\n",
       "      <th>Rondout Date</th>\n",
       "      <th>Rondout Elevation</th>\n",
       "      <th>Rondout Storage</th>\n",
       "      <th>Schoharie Date</th>\n",
       "      <th>Schoharie Elevation</th>\n",
       "      <th>Schoharie Storage</th>\n",
       "      <th>Cannonsville Date</th>\n",
       "      <th>...</th>\n",
       "      <th>Cannonsville Storage</th>\n",
       "      <th>Pepacton Date</th>\n",
       "      <th>Pepacton Elevation</th>\n",
       "      <th>Pepacton Storage</th>\n",
       "      <th>Ashokan East Date</th>\n",
       "      <th>Ashokan East Elevation</th>\n",
       "      <th>Ashokan East Storage</th>\n",
       "      <th>Ashokan West Date</th>\n",
       "      <th>Ashokan West Elevation</th>\n",
       "      <th>Ashokan West Storage</th>\n",
       "    </tr>\n",
       "  </thead>\n",
       "  <tbody>\n",
       "    <tr>\n",
       "      <th>0</th>\n",
       "      <td>03/01/2005 04:00:00 PM +0000</td>\n",
       "      <td>1440.21</td>\n",
       "      <td>35570</td>\n",
       "      <td>03/01/2005 04:00:00 PM +0000</td>\n",
       "      <td>835.10</td>\n",
       "      <td>46757.0</td>\n",
       "      <td>03/01/2005 04:00:00 PM +0000</td>\n",
       "      <td>1130.09</td>\n",
       "      <td>19618.0</td>\n",
       "      <td>03/02/2005 04:00:00 PM +0000</td>\n",
       "      <td>...</td>\n",
       "      <td>97257.0</td>\n",
       "      <td>03/01/2005 04:00:00 PM +0000</td>\n",
       "      <td>1277.42</td>\n",
       "      <td>138986</td>\n",
       "      <td>03/01/2005 04:00:00 PM +0000</td>\n",
       "      <td>586.61</td>\n",
       "      <td>79856</td>\n",
       "      <td>03/01/2005 04:00:00 PM +0000</td>\n",
       "      <td>587.24</td>\n",
       "      <td>44432.0</td>\n",
       "    </tr>\n",
       "    <tr>\n",
       "      <th>1</th>\n",
       "      <td>03/02/2005 04:00:00 PM +0000</td>\n",
       "      <td>1440.22</td>\n",
       "      <td>35575</td>\n",
       "      <td>03/02/2005 04:00:00 PM +0000</td>\n",
       "      <td>834.98</td>\n",
       "      <td>46678.0</td>\n",
       "      <td>03/02/2005 04:00:00 PM +0000</td>\n",
       "      <td>1130.07</td>\n",
       "      <td>19610.0</td>\n",
       "      <td>03/03/2005 04:00:00 PM +0000</td>\n",
       "      <td>...</td>\n",
       "      <td>97193.0</td>\n",
       "      <td>03/02/2005 04:00:00 PM +0000</td>\n",
       "      <td>1277.26</td>\n",
       "      <td>138696</td>\n",
       "      <td>03/02/2005 04:00:00 PM +0000</td>\n",
       "      <td>586.61</td>\n",
       "      <td>79856</td>\n",
       "      <td>03/02/2005 04:00:00 PM +0000</td>\n",
       "      <td>586.93</td>\n",
       "      <td>44123.0</td>\n",
       "    </tr>\n",
       "    <tr>\n",
       "      <th>2</th>\n",
       "      <td>03/03/2005 04:00:00 PM +0000</td>\n",
       "      <td>1440.21</td>\n",
       "      <td>35570</td>\n",
       "      <td>03/03/2005 04:00:00 PM +0000</td>\n",
       "      <td>834.84</td>\n",
       "      <td>46585.0</td>\n",
       "      <td>03/03/2005 04:00:00 PM +0000</td>\n",
       "      <td>1130.05</td>\n",
       "      <td>19602.0</td>\n",
       "      <td>03/04/2005 04:00:00 PM +0000</td>\n",
       "      <td>...</td>\n",
       "      <td>97080.0</td>\n",
       "      <td>03/03/2005 04:00:00 PM +0000</td>\n",
       "      <td>1277.10</td>\n",
       "      <td>138406</td>\n",
       "      <td>03/03/2005 04:00:00 PM +0000</td>\n",
       "      <td>586.60</td>\n",
       "      <td>79839</td>\n",
       "      <td>03/03/2005 04:00:00 PM +0000</td>\n",
       "      <td>586.61</td>\n",
       "      <td>43804.0</td>\n",
       "    </tr>\n",
       "    <tr>\n",
       "      <th>3</th>\n",
       "      <td>03/04/2005 04:00:00 PM +0000</td>\n",
       "      <td>1440.21</td>\n",
       "      <td>35570</td>\n",
       "      <td>03/04/2005 04:00:00 PM +0000</td>\n",
       "      <td>834.85</td>\n",
       "      <td>46592.0</td>\n",
       "      <td>03/04/2005 04:00:00 PM +0000</td>\n",
       "      <td>1130.04</td>\n",
       "      <td>19599.0</td>\n",
       "      <td>03/05/2005 04:00:00 PM +0000</td>\n",
       "      <td>...</td>\n",
       "      <td>96951.0</td>\n",
       "      <td>03/04/2005 04:00:00 PM +0000</td>\n",
       "      <td>1276.90</td>\n",
       "      <td>138045</td>\n",
       "      <td>03/04/2005 04:00:00 PM +0000</td>\n",
       "      <td>586.61</td>\n",
       "      <td>79856</td>\n",
       "      <td>03/04/2005 04:00:00 PM +0000</td>\n",
       "      <td>586.31</td>\n",
       "      <td>43505.0</td>\n",
       "    </tr>\n",
       "    <tr>\n",
       "      <th>4</th>\n",
       "      <td>03/05/2005 04:00:00 PM +0000</td>\n",
       "      <td>1440.21</td>\n",
       "      <td>35570</td>\n",
       "      <td>03/05/2005 04:00:00 PM +0000</td>\n",
       "      <td>834.88</td>\n",
       "      <td>46612.0</td>\n",
       "      <td>03/05/2005 04:00:00 PM +0000</td>\n",
       "      <td>1130.04</td>\n",
       "      <td>19599.0</td>\n",
       "      <td>03/06/2005 04:00:00 PM +0000</td>\n",
       "      <td>...</td>\n",
       "      <td>96680.0</td>\n",
       "      <td>03/05/2005 04:00:00 PM +0000</td>\n",
       "      <td>1276.72</td>\n",
       "      <td>137721</td>\n",
       "      <td>03/05/2005 04:00:00 PM +0000</td>\n",
       "      <td>586.61</td>\n",
       "      <td>79856</td>\n",
       "      <td>03/05/2005 04:00:00 PM +0000</td>\n",
       "      <td>586.00</td>\n",
       "      <td>43197.0</td>\n",
       "    </tr>\n",
       "  </tbody>\n",
       "</table>\n",
       "<p>5 rows × 21 columns</p>\n",
       "</div>"
      ],
      "text/plain": [
       "   Neversink Date                Neversink Elevation  Neversink Storage  \\\n",
       "0  03/01/2005 04:00:00 PM +0000              1440.21              35570   \n",
       "1  03/02/2005 04:00:00 PM +0000              1440.22              35575   \n",
       "2  03/03/2005 04:00:00 PM +0000              1440.21              35570   \n",
       "3  03/04/2005 04:00:00 PM +0000              1440.21              35570   \n",
       "4  03/05/2005 04:00:00 PM +0000              1440.21              35570   \n",
       "\n",
       "      Rondout Date               Rondout Elevation  Rondout Storage  \\\n",
       "0  03/01/2005 04:00:00 PM +0000             835.10          46757.0   \n",
       "1  03/02/2005 04:00:00 PM +0000             834.98          46678.0   \n",
       "2  03/03/2005 04:00:00 PM +0000             834.84          46585.0   \n",
       "3  03/04/2005 04:00:00 PM +0000             834.85          46592.0   \n",
       "4  03/05/2005 04:00:00 PM +0000             834.88          46612.0   \n",
       "\n",
       "    Schoharie Date               Schoharie Elevation  Schoharie Storage  \\\n",
       "0  03/01/2005 04:00:00 PM +0000              1130.09            19618.0   \n",
       "1  03/02/2005 04:00:00 PM +0000              1130.07            19610.0   \n",
       "2  03/03/2005 04:00:00 PM +0000              1130.05            19602.0   \n",
       "3  03/04/2005 04:00:00 PM +0000              1130.04            19599.0   \n",
       "4  03/05/2005 04:00:00 PM +0000              1130.04            19599.0   \n",
       "\n",
       "  Cannonsville Date                       ...           Cannonsville Storage  \\\n",
       "0   03/02/2005 04:00:00 PM +0000          ...                        97257.0   \n",
       "1   03/03/2005 04:00:00 PM +0000          ...                        97193.0   \n",
       "2   03/04/2005 04:00:00 PM +0000          ...                        97080.0   \n",
       "3   03/05/2005 04:00:00 PM +0000          ...                        96951.0   \n",
       "4   03/06/2005 04:00:00 PM +0000          ...                        96680.0   \n",
       "\n",
       "    Pepacton Date               Pepacton Elevation  Pepacton Storage  \\\n",
       "0  03/01/2005 04:00:00 PM +0000            1277.42            138986   \n",
       "1  03/02/2005 04:00:00 PM +0000            1277.26            138696   \n",
       "2  03/03/2005 04:00:00 PM +0000            1277.10            138406   \n",
       "3  03/04/2005 04:00:00 PM +0000            1276.90            138045   \n",
       "4  03/05/2005 04:00:00 PM +0000            1276.72            137721   \n",
       "\n",
       "   Ashokan East Date              Ashokan East Elevation  \\\n",
       "0    03/01/2005 04:00:00 PM +0000                 586.61   \n",
       "1    03/02/2005 04:00:00 PM +0000                 586.61   \n",
       "2    03/03/2005 04:00:00 PM +0000                 586.60   \n",
       "3    03/04/2005 04:00:00 PM +0000                 586.61   \n",
       "4    03/05/2005 04:00:00 PM +0000                 586.61   \n",
       "\n",
       "   Ashokan East Storage  Ashokan West Date               \\\n",
       "0                 79856    03/01/2005 04:00:00 PM +0000   \n",
       "1                 79856    03/02/2005 04:00:00 PM +0000   \n",
       "2                 79839    03/03/2005 04:00:00 PM +0000   \n",
       "3                 79856    03/04/2005 04:00:00 PM +0000   \n",
       "4                 79856    03/05/2005 04:00:00 PM +0000   \n",
       "\n",
       "  Ashokan West Elevation  Ashokan West Storage  \n",
       "0                 587.24               44432.0  \n",
       "1                 586.93               44123.0  \n",
       "2                 586.61               43804.0  \n",
       "3                 586.31               43505.0  \n",
       "4                 586.00               43197.0  \n",
       "\n",
       "[5 rows x 21 columns]"
      ]
     },
     "execution_count": 3,
     "metadata": {},
     "output_type": "execute_result"
    }
   ],
   "source": [
    "# reads dataset (NYC reservoir data) into dataframe\n",
    "DFDATA = os.getenv('DFDATA')\n",
    "waterRes = pd.read_csv(DFDATA + '/zkky-n5j3/1414246141/zkky-n5j3')\n",
    "waterRes.head()"
   ]
  },
  {
   "cell_type": "code",
   "execution_count": 4,
   "metadata": {
    "collapsed": false,
    "scrolled": true
   },
   "outputs": [
    {
     "data": {
      "text/html": [
       "<div>\n",
       "<table border=\"1\" class=\"dataframe\">\n",
       "  <thead>\n",
       "    <tr style=\"text-align: right;\">\n",
       "      <th></th>\n",
       "      <th>Neversink Date</th>\n",
       "      <th>Neversink Elevation</th>\n",
       "    </tr>\n",
       "  </thead>\n",
       "  <tbody>\n",
       "    <tr>\n",
       "      <th>0</th>\n",
       "      <td>03/01/2005 04:00:00 PM +0000</td>\n",
       "      <td>1440.21</td>\n",
       "    </tr>\n",
       "    <tr>\n",
       "      <th>1</th>\n",
       "      <td>03/02/2005 04:00:00 PM +0000</td>\n",
       "      <td>1440.22</td>\n",
       "    </tr>\n",
       "    <tr>\n",
       "      <th>2</th>\n",
       "      <td>03/03/2005 04:00:00 PM +0000</td>\n",
       "      <td>1440.21</td>\n",
       "    </tr>\n",
       "    <tr>\n",
       "      <th>3</th>\n",
       "      <td>03/04/2005 04:00:00 PM +0000</td>\n",
       "      <td>1440.21</td>\n",
       "    </tr>\n",
       "    <tr>\n",
       "      <th>4</th>\n",
       "      <td>03/05/2005 04:00:00 PM +0000</td>\n",
       "      <td>1440.21</td>\n",
       "    </tr>\n",
       "  </tbody>\n",
       "</table>\n",
       "</div>"
      ],
      "text/plain": [
       "                 Neversink Date  Neversink Elevation\n",
       "0  03/01/2005 04:00:00 PM +0000              1440.21\n",
       "1  03/02/2005 04:00:00 PM +0000              1440.22\n",
       "2  03/03/2005 04:00:00 PM +0000              1440.21\n",
       "3  03/04/2005 04:00:00 PM +0000              1440.21\n",
       "4  03/05/2005 04:00:00 PM +0000              1440.21"
      ]
     },
     "execution_count": 4,
     "metadata": {},
     "output_type": "execute_result"
    }
   ],
   "source": [
    "# pull relevant columns from data (date/time and elevation of single reservoir)\n",
    "waterRes = waterRes[waterRes.columns[0:2]]\n",
    "\n",
    "# fixing column name (removed whitespace causing errors...)\n",
    "waterRes = waterRes.rename(columns = {'Neversink Date              ':'Neversink Date'})\n",
    "waterRes.head()"
   ]
  },
  {
   "cell_type": "code",
   "execution_count": 5,
   "metadata": {
    "collapsed": false
   },
   "outputs": [],
   "source": [
    "# convert date/time information from strings to python datetime format\n",
    "waterRes['Neversink Date'] = pd.to_datetime(waterRes['Neversink Date'])"
   ]
  },
  {
   "cell_type": "code",
   "execution_count": 6,
   "metadata": {
    "collapsed": false,
    "scrolled": false
   },
   "outputs": [
    {
     "name": "stdout",
     "output_type": "stream",
     "text": [
      "Populating the interactive namespace from numpy and matplotlib\n"
     ]
    },
    {
     "data": {
      "text/plain": [
       "<matplotlib.text.Text at 0x7f450d97d950>"
      ]
     },
     "execution_count": 6,
     "metadata": {},
     "output_type": "execute_result"
    },
    {
     "data": {
      "image/png": "[encoded data removed]",
      "text/plain": [
       "<matplotlib.figure.Figure at 0x7f450d690d10>"
      ]
     },
     "metadata": {},
     "output_type": "display_data"
    }
   ],
   "source": [
    "# plotting data\n",
    "%pylab inline\n",
    "ax2 = waterRes.plot(x = 'Neversink Date', y = 'Neversink Elevation', linestyle = \"\", marker = '.', \n",
    "                    title = \"Neversink Reservoir Elevation\", grid = 'on')\n",
    "ax2.set_xlabel('Time (year)')\n",
    "ax2.set_ylabel('Elevation Depth (inches)')"
   ]
  },
  {
   "cell_type": "markdown",
   "metadata": {},
   "source": [
    "##### Figure 1."
   ]
  },
  {
   "cell_type": "markdown",
   "metadata": {},
   "source": [
    "The figure above is a scatter plot showing the elevation depth of the Neversink Reservoir in NY over time."
   ]
  }
 ],
 "metadata": {
  "kernelspec": {
   "display_name": "PUI2016_Python2",
   "language": "python",
   "name": "pui2016_python2"
  },
  "language_info": {
   "codemirror_mode": {
    "name": "ipython",
    "version": 2
   },
   "file_extension": ".py",
   "mimetype": "text/x-python",
   "name": "python",
   "nbconvert_exporter": "python",
   "pygments_lexer": "ipython2",
   "version": "2.7.12"
  }
 },
 "nbformat": 4,
 "nbformat_minor": 0
}
