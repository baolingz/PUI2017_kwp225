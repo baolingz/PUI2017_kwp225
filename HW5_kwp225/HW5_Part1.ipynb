{
 "cells": [
  {
   "cell_type": "code",
   "execution_count": 1,
   "metadata": {
    "collapsed": false
   },
   "outputs": [
    {
     "name": "stdout",
     "output_type": "stream",
     "text": [
      "Populating the interactive namespace from numpy and matplotlib\n"
     ]
    }
   ],
   "source": [
    "import numpy as np\n",
    "import pylab as pl\n",
    "import pandas as pd\n",
    "import scipy.stats as st\n",
    "%pylab inline"
   ]
  },
  {
   "cell_type": "markdown",
   "metadata": {},
   "source": [
    "## Assignment 1: Test the Z test: \n",
    "(all simulated data)\n",
    "\n",
    "\n",
    "Generate N samples from a distribution of your choice, **but not a Gaussian** with a chosen mean μ and standard deviation σ:   N(μ, σ) and calculate the mean of each sample (all samples should have the same size n). \n",
    "\n",
    "Assess the validity of the Z-test: If the samples are drawn from the distribution you are testing the z-values you calculate should follow a N(0,1) distribution (a Gaussian with mean 0 and standard deviation 1). Show that the distribution of z -statistics (find the formula in a statistics book or in last week’s slides) that you calculated (one for each sample) is indeed consistent with N(0,1).\n",
    "\n",
    "\n",
    "### Grading: \n",
    "you must:\n",
    "\n",
    "plot your original distribution\n",
    "\n",
    "plot at least one of the samples\n",
    "\n",
    "plot the distribution of z statistics\n",
    "\n",
    "fit the z-statistics with a gaussian model and assess the goodness of fit with a simple test (AD or KS).\n",
    "\n",
    "find the best fit values for the model parameters (mean and standard deviation) by minimizing the model chi square.\n",
    "\n",
    "plots need have caption, axis labels, etx and comment your figures and test results appropriately (to demonstrate your understanding).\n"
   ]
  },
  {
   "cell_type": "code",
   "execution_count": 2,
   "metadata": {
    "collapsed": false
   },
   "outputs": [],
   "source": [
    "mean = 100\n",
    "stDev = 10\n",
    "size = 300"
   ]
  },
  {
   "cell_type": "code",
   "execution_count": 15,
   "metadata": {
    "collapsed": false
   },
   "outputs": [
    {
     "data": {
      "image/png": "[encoded data removed]",
      "text/plain": [
       "<matplotlib.figure.Figure at 0x7f79582c9790>"
      ]
     },
     "metadata": {},
     "output_type": "display_data"
    }
   ],
   "source": [
    "np.random.seed(10)\n",
    "normal = st.norm.rvs(loc=mean, scale=stDev, size=size)\n",
    "pl.hist(normal, color='orange');\n",
    "pl.xlabel('x')\n",
    "pl.ylabel('count')\n",
    "pl.title('Normal Distribution');"
   ]
  },
  {
   "cell_type": "code",
   "execution_count": 16,
   "metadata": {
    "collapsed": false,
    "scrolled": true
   },
   "outputs": [
    {
     "data": {
      "image/png": "[encoded data removed]",
      "text/plain": [
       "<matplotlib.figure.Figure at 0x7f7958420490>"
      ]
     },
     "metadata": {},
     "output_type": "display_data"
    }
   ],
   "source": [
    "pois = st.poisson.rvs(mean, size=size)\n",
    "pl.hist(pois)\n",
    "pl.xlabel('x')\n",
    "pl.ylabel('count')\n",
    "pl.title('Poisson Distribution');"
   ]
  },
  {
   "cell_type": "code",
   "execution_count": 5,
   "metadata": {
    "collapsed": false
   },
   "outputs": [
    {
     "name": "stdout",
     "output_type": "stream",
     "text": [
      "('mean:', 99.61666666666666)\n",
      "('stdev:', 9.5566585280746654)\n"
     ]
    }
   ],
   "source": [
    "print('mean:', pois.mean())\n",
    "print('stdev:', pois.std())"
   ]
  },
  {
   "cell_type": "code",
   "execution_count": 6,
   "metadata": {
    "collapsed": true
   },
   "outputs": [],
   "source": [
    "def calculate_z(dist, mu=100, std=10):\n",
    "    z = np.sqrt(len(dist))*(mu - dist.mean())/(dist.std())\n",
    "    return z"
   ]
  },
  {
   "cell_type": "code",
   "execution_count": 7,
   "metadata": {
    "collapsed": false
   },
   "outputs": [],
   "source": [
    "for i in range(100):\n",
    "    samples = st.poisson.rvs(mean, size=size)\n",
    "    pois = np.append(pois,samples)"
   ]
  },
  {
   "cell_type": "code",
   "execution_count": 8,
   "metadata": {
    "collapsed": false
   },
   "outputs": [],
   "source": [
    "z_scores = np.zeros(1000)\n",
    "np.random.seed(10)\n",
    "\n",
    "for i in range(0,1000):\n",
    "    z_scores[i] = (calculate_z(st.poisson.rvs(mean, size=size), mean, stDev))"
   ]
  },
  {
   "cell_type": "code",
   "execution_count": 18,
   "metadata": {
    "collapsed": false,
    "scrolled": false
   },
   "outputs": [
    {
     "name": "stdout",
     "output_type": "stream",
     "text": [
      "Histogram comparing the distribution of z-scores to the normal distribution. They are very similar\n"
     ]
    },
    {
     "data": {
      "image/png": "[encoded data removed]",
      "text/plain": [
       "<matplotlib.figure.Figure at 0x7f79585f85d0>"
      ]
     },
     "metadata": {},
     "output_type": "display_data"
    }
   ],
   "source": [
    "pl.hist(z_scores, alpha = 0.7);\n",
    "pl.hist(np.random.normal(0, 1, 1000), alpha=0.5);\n",
    "pl.xlabel('mean')\n",
    "pl.ylabel('count')\n",
    "pl.legend(['z-scores','normal']);\n",
    "print('Histogram comparing the distribution of z-scores to the normal distribution. They are very similar.')"
   ]
  },
  {
   "cell_type": "markdown",
   "metadata": {},
   "source": [
    "## KS Test"
   ]
  },
  {
   "cell_type": "code",
   "execution_count": 19,
   "metadata": {
    "collapsed": false
   },
   "outputs": [
    {
     "name": "stdout",
     "output_type": "stream",
     "text": [
      "KstestResult(statistic=0.015314760110264836, pvalue=0.97311118064984203)\n",
      "P-value = 0.097, which is > 0.05. Because of the high p-value we can't reject the null hypothesis that the sample comes from a normal / Gaussian distribution.\n"
     ]
    }
   ],
   "source": [
    "print(st.kstest(z_scores, 'norm'))\n",
    "print(\"P-value = 0.097, which is > 0.05. Because of the high p-value we can't reject the null hypothesis that \" +\n",
    "      \"the sample comes from a normal / Gaussian distribution.\")"
   ]
  },
  {
   "cell_type": "markdown",
   "metadata": {},
   "source": [
    "## Anderson"
   ]
  },
  {
   "cell_type": "code",
   "execution_count": 11,
   "metadata": {
    "collapsed": false
   },
   "outputs": [
    {
     "name": "stdout",
     "output_type": "stream",
     "text": [
      "AndersonResult(statistic=0.25667828975917928, critical_values=array([ 0.574,  0.653,  0.784,  0.914,  1.088]), significance_level=array([ 15. ,  10. ,   5. ,   2.5,   1. ]))\n",
      "At alpha = 0.05, the critical value is 0/784. The calculated statistic = 0.26 is smaller than the critical value. Thus, the null hypothesis that the sample comes from a normal/Gaussian distribution cannot be rejected.\n"
     ]
    }
   ],
   "source": [
    "print(st.anderson(z_scores, 'norm'))\n",
    "\n",
    "print(\"At alpha = 0.05, the critical value is 0.784. The calculated statistic = 0.26 is smaller than the critical value. \" +\n",
    "      \"Thus, the null hypothesis that the sample comes from a normal/Gaussian distribution cannot be rejected.\")"
   ]
  }
 ],
 "metadata": {
  "kernelspec": {
   "display_name": "PUI2016_Python2",
   "language": "python",
   "name": "pui2016_python2"
  },
  "language_info": {
   "codemirror_mode": {
    "name": "ipython",
    "version": 2
   },
   "file_extension": ".py",
   "mimetype": "text/x-python",
   "name": "python",
   "nbconvert_exporter": "python",
   "pygments_lexer": "ipython2",
   "version": "2.7.12"
  }
 },
 "nbformat": 4,
 "nbformat_minor": 0
}
